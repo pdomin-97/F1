{
 "cells": [
  {
   "cell_type": "code",
   "execution_count": 2,
   "id": "670e0054",
   "metadata": {},
   "outputs": [],
   "source": [
    "import numpy as np\n",
    "import pandas as pd\n",
    "import matplotlib.pyplot as plt\n",
    "import os, sys\n"
   ]
  },
  {
   "cell_type": "code",
   "execution_count": 10,
   "id": "e130cb9e",
   "metadata": {},
   "outputs": [],
   "source": [
    "circuits  = pd.read_csv ('circuits.csv', index_col=0)\n",
    "constructor_results  = pd.read_csv ('constructor_results.csv', index_col=0)\n",
    "constructor_standings  = pd.read_csv ('constructor_standings.csv', index_col=0)\n",
    "constructors  = pd.read_csv ('constructors.csv', index_col=0)\n",
    "driver_standings  = pd.read_csv ('driver_standings.csv', index_col=0)\n",
    "drivers  = pd.read_csv ('drivers.csv', index_col=0)\n",
    "lap_times  = pd.read_csv ('lap_times.csv', index_col=0)\n",
    "pit_stops  = pd.read_csv ('pit_stops.csv', index_col=0)\n",
    "qualifying  = pd.read_csv ('qualifying.csv', index_col=0)\n",
    "races  = pd.read_csv ('races.csv', index_col=0)\n",
    "results  = pd.read_csv ('results.csv', index_col=0)\n",
    "seasons  = pd.read_csv ('seasons.csv', index_col=0)\n",
    "status  = pd.read_csv ('status.csv', index_col=0)\n"
   ]
  },
  {
   "cell_type": "code",
   "execution_count": null,
   "id": "f368933d",
   "metadata": {},
   "outputs": [],
   "source": []
  }
 ],
 "metadata": {
  "kernelspec": {
   "display_name": "Python 3 (ipykernel)",
   "language": "python",
   "name": "python3"
  },
  "language_info": {
   "codemirror_mode": {
    "name": "ipython",
    "version": 3
   },
   "file_extension": ".py",
   "mimetype": "text/x-python",
   "name": "python",
   "nbconvert_exporter": "python",
   "pygments_lexer": "ipython3",
   "version": "3.9.7"
  }
 },
 "nbformat": 4,
 "nbformat_minor": 5
}
